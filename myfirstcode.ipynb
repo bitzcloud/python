# My first python code.

print("Hello, world!")
